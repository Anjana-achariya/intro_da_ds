{
 "cells": [
  {
   "cell_type": "code",
   "execution_count": null,
   "id": "1b4e33bb",
   "metadata": {},
   "outputs": [],
   "source": [
    "\"\"\"\n",
    "Loops are used to repeatedly execute a block of code as long as a certain condition is met.\n",
    "\n",
    "for loop: This loop is used to iterate over a sequence (like a list, tuple, dictionary, set, or string) or other iterable objects.\n",
    "\n",
    "while loop: This loop is used to repeatedly execute a block of code as long as a condition is true.\n",
    "\"\"\""
   ]
  },
  {
   "cell_type": "code",
   "execution_count": null,
   "id": "b2aeef92",
   "metadata": {},
   "outputs": [],
   "source": [
    "# Example of for loop to iterate over a list\n",
    "fruits = [\"apple\", \"banana\", \"cherry\"]\n",
    "for fruit  in fruits: # for , fruit = each item in fruits (var)\n",
    "    print(fruit) # print(each item)\n",
    "\n",
    "# datatypes = a ,b,c ,0,1,2 ,abc124, 23.4556\n",
    "# \"anjana\" ,\"a\",\"b\", \"123abc\" , \"234\" - string /character\n",
    "# 1,2,3 -integer . -1 ,-2 = signed integer\n",
    "# 23.45 , 3.5 , 78.99999 - float\n",
    "# 12.3456789043 - double\n",
    "# a= [\"anjana\",1 ,\"abc123\",23.45 ] -list ,store different datatype ,modify\n",
    "# b= (\"anjana\",1, \"as34\", 23.56) - tuple , store different datatype , not modifiable\n",
    "\n",
    "\n",
    "a = [1,2,3,4,5,6,\"abc\",\"abc12\", 88.9] #list  ,sequence of values stored inside a list\n",
    "# for loop\n",
    "for i in a: # for - keyword , i = items/ values/ elements , in ,a = variable\n",
    "    print(i)\n",
    "#1st loop = for 1 in a , print 1\n",
    "#2nd loop = for 2 in a , print 2\n",
    "#3rd loop = for 3 in a , print 3\n",
    "#4th loop = for 4 in a , print 4\n",
    "#5th loop = for 5 in a , print 5\n",
    "#6th loop = for 6 in a , print 6\n",
    "#7th loop = for abc in a , print abc\n",
    "#8th loop = for abc12 in a , print abc12\n",
    "#9th loop = for 88.9 in a , print 88.9\n",
    "\n"
   ]
  },
  {
   "cell_type": "code",
   "execution_count": null,
   "id": "005decb7",
   "metadata": {},
   "outputs": [],
   "source": [
    "# Example of while loop to print numbers from 1 to 5\n",
    "i = 1 #variable = value\n",
    "while i<=5: # while condition ,1 = <=5\n",
    "    print(i)\n",
    "    i += 1 # i = i+1\n",
    "\n",
    "while True :\n",
    "    print(i)\n",
    "    i += 1\n",
    "    if i > 5:\n",
    "        break\n",
    "#1st loop 1 is printed\n",
    "#2nd loop 2 is printed ,1+1=2\n",
    "#3rd loop 3 is printed ,2+1 =3\n",
    "#4th loop 4 is printed ,3 +1 =4\n",
    "#5th loop 5 is printed ,4 +1 =5\n"
   ]
  },
  {
   "cell_type": "code",
   "execution_count": null,
   "id": "980f4ce9",
   "metadata": {},
   "outputs": [],
   "source": [
    "\"\"\"\n",
    "**Additional Control Statements in Loops**\n",
    "* break: Terminates the loop prematurely.\n",
    "* continue: Skips the rest of the code inside the loop for the current iteration and moves to the next iteration.\n",
    "* else: Can be used with loops to execute a block of code once when the loop condition is no longer true.\"\"\""
   ]
  },
  {
   "cell_type": "code",
   "execution_count": null,
   "id": "eb8a7c4e",
   "metadata": {},
   "outputs": [],
   "source": [
    "# Example of break statement\n",
    "for num in range(10):\n",
    "    if num == 5:\n",
    "        break\n",
    "    print(num)\n"
   ]
  },
  {
   "cell_type": "code",
   "execution_count": null,
   "id": "fcf2a3ac",
   "metadata": {},
   "outputs": [],
   "source": [
    "# Example of continue statement\n",
    "for num in range(5):\n",
    "    if num == 3: #condition , true\n",
    "        continue\n",
    "    print(num)\n"
   ]
  },
  {
   "cell_type": "code",
   "execution_count": null,
   "id": "f9e0e910",
   "metadata": {},
   "outputs": [],
   "source": [
    "# Example of else with for loop\n",
    "for num in range(5):\n",
    "      print(num)  # condition false\n",
    "else: \n",
    "    print(\"Loop finished\")\n",
    "\n",
    "# Example of else with while loop\n",
    "i = 1\n",
    "while i < 5:\n",
    "    print(i)\n",
    "    i += 1\n",
    "else:\n",
    "    print(\"Loop finished\")\n",
    "    \n",
    "# similar scenario of else with the example of if else\n",
    "    \n",
    "a=10 \n",
    "b=5\n",
    "if a >b : # condition :false\n",
    "    print (\"a is greater than b\")\n",
    "else:\n",
    "    print(\"a is less than b\")\n"
   ]
  },
  {
   "cell_type": "code",
   "execution_count": null,
   "id": "08d0034c",
   "metadata": {},
   "outputs": [],
   "source": [
    "\"\"\"\n",
    "**Strings:**\n",
    "\n",
    "\n",
    "In Python, a string is a sequence of characters enclosed within single (') or double (\") quotes.\"\"\""
   ]
  },
  {
   "cell_type": "code",
   "execution_count": null,
   "id": "78f7afe2",
   "metadata": {},
   "outputs": [],
   "source": [
    "\"\"\"**String Slicing:**\n",
    "\n",
    "String slicing allows you to access specific characters or substrings within a string using indices. \"\"\""
   ]
  },
  {
   "cell_type": "code",
   "execution_count": null,
   "id": "f32a37a7",
   "metadata": {},
   "outputs": [],
   "source": [
    "# string[start:end:step]\n",
    "\n",
    "\"\"\"\n",
    "variable[index values. ]\n",
    "var= \"characters\"\n",
    "index = c=0, h=1, a=2,r=3,a=4, c=5,t=6,e=7,r=8,s =9\n",
    "\"\"\""
   ]
  },
  {
   "cell_type": "code",
   "execution_count": null,
   "id": "2c54a416",
   "metadata": {},
   "outputs": [],
   "source": [
    "a = \"google_meet\"\n",
    "print(a)\n",
    "\n",
    "\"\"\"\n",
    "0 =g  g -1(goo),g(gle),_(_me)e,ets (stop)\n",
    "1 =o \n",
    "2 =o \n",
    "3 =g  \n",
    "4 =l \n",
    "5 =e \n",
    "6 =_ \n",
    "7 =m\n",
    "8 =e\n",
    "9 =e\n",
    "10 =t\n",
    "11 =s\n",
    "\"\"\"\n",
    "print(a[0])\n",
    "print(a[1])\n",
    "print(a[6])\n",
    "#string[start:end:step]\n",
    "print(a[0:6])\n",
    "print(a[0:11:3])\n",
    "print(a[::-1]) #reverse\n"
   ]
  },
  {
   "cell_type": "code",
   "execution_count": null,
   "id": "29e0c31a",
   "metadata": {},
   "outputs": [],
   "source": [
    "# String slicing\n",
    "\n",
    "\n",
    "\n",
    "a = \"google_meet\"\n",
    "print(a)\n",
    "\n",
    "\"\"\"\n",
    "0 =g  g -1(goo),g(gle),_(_me)e,ets (stop)\n",
    "1 =o \n",
    "2 =o \n",
    "3 =g  \n",
    "4 =l \n",
    "5 =e \n",
    "6 =_ \n",
    "7 =m\n",
    "8 =e\n",
    "9 =e\n",
    "10 =t\n",
    "\n",
    "\"\"\"\n",
    "\n",
    "print(a[:4])\n",
    "print(a[0:])\n",
    "\n",
    "print(a[1:8])\n",
    "print(a[3:])\n",
    "\n",
    "print(a[0:10:3]) \n",
    "print(a[10:0:-3])\n",
    "\n"
   ]
  }
 ],
 "metadata": {
  "kernelspec": {
   "display_name": "Python 3 (ipykernel)",
   "language": "python",
   "name": "python3"
  },
  "language_info": {
   "codemirror_mode": {
    "name": "ipython",
    "version": 3
   },
   "file_extension": ".py",
   "mimetype": "text/x-python",
   "name": "python",
   "nbconvert_exporter": "python",
   "pygments_lexer": "ipython3",
   "version": "3.10.9"
  }
 },
 "nbformat": 4,
 "nbformat_minor": 5
}
